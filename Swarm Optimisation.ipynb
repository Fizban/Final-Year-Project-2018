{
 "cells": [
  {
   "cell_type": "code",
   "execution_count": 21,
   "metadata": {
    "collapsed": true
   },
   "outputs": [],
   "source": [
    "import numpy as np\n",
    "import matplotlib.pyplot as plt\n",
    "import matplotlib.animation as animation\n",
    "import copy"
   ]
  },
  {
   "cell_type": "code",
   "execution_count": 15,
   "metadata": {},
   "outputs": [],
   "source": [
    "class Particle(object):\n",
    "    def __init__(self, position, velocity):\n",
    "        self.position = copy.copy(position)\n",
    "        self.velocity = copy.copy(velocity)\n",
    "        self.best_pos = copy.copy(position)\n",
    "    \n",
    "    def update_time_step(self, time_unit):\n",
    "        self.position += copy.copy(self.velocity)*time_unit\n",
    "    \n",
    "    def update_velocity(self,velocity):\n",
    "        self.velocity = copy.copy(velocity)\n",
    "        \n",
    "    def update_best_position(self,position):\n",
    "        self.best_pos = copy.copy(position)\n",
    "        \n",
    "    def get_position(self):\n",
    "        return copy.copy(self.position)\n",
    "    \n",
    "    def get_best_position(self):\n",
    "        return  copy.copy(self.best_pos)\n",
    "    \n",
    "    def get_velocity(self):\n",
    "        return copy.copy(self.velocity)\n",
    "    \n",
    "    "
   ]
  },
  {
   "cell_type": "code",
   "execution_count": 19,
   "metadata": {},
   "outputs": [],
   "source": [
    "class Swarm(object):\n",
    "    def __init__(self, particle_count, inertia, cognitive, social,\n",
    "                 random_position_generator, random_velocity_generator, objective_function,\n",
    "                 alpha):\n",
    "        self.swarm_best_pos = None\n",
    "        self.swarm_best_value = None\n",
    "        self.particles = []\n",
    "        self.animation_position = []\n",
    "        self.particle_count = particle_count\n",
    "        self.alpha = alpha\n",
    "        self.inertia = inertia\n",
    "        self.cognitive = cognitive\n",
    "        self.social = social\n",
    "        self.objective_function = objective_function\n",
    "        for i in range(particle_count):\n",
    "            particle = Particle(random_position_generator(), random_velocity_generator())\n",
    "            self.particles.append(particle)\n",
    "            particle.best_value = self.objective_function(particle.get_position())\n",
    "            \n",
    "            if((self.swarm_best_value != None) or (self.swarm_best_value < self.objective_function(particle.get_position()))):\n",
    "                self.swarm_best_pos = particle.get_position()\n",
    "                \n",
    "    def epoch(self,time_unit):\n",
    "        swarm_position = np.zeros(shape=(0,2))\n",
    "        for particle in self.particles:\n",
    "            particle.update_time_step(time_unit)\n",
    "            particle.update_velocity((self.inertia*particle.get_velocity()) + (self.cognitive*np.random.uniform(0,self.alpha)*(self.swarm_best_pos-particle.get_position()))\n",
    "                                     + (self.social*np.random.uniform(0,self.alpha)*(particle.get_best_position()-particle.get_position())))\n",
    "            if (self.objective_function(particle.get_position()) > self.objective_function(particle.get_best_position())):\n",
    "                particle.update_best_position(particle.get_position())\n",
    "                \n",
    "            if (self.objective_function(particle.get_position()) > self.swarm_best_value):\n",
    "                self.swarm_best_pos = particle.get_position()\n",
    "                self.swarm_best_value = self.objective_function(particle.get_best_position())\n",
    "                swarm_position = np.vstack([swarm_position, np.array(particle.get_position())])\n",
    "                \n",
    "            self.animation_position.append(swarm_position)\n",
    "    def update_plot(self, i):\n",
    "        self.scat.set_offsets([np.array(self.animation_position[i])[:,0],np.array(self.animation_position[i])[:,1]])\n",
    "        return\n",
    "    \n",
    "    def finish(self):\n",
    "        self.fig = plt.figure()\n",
    "        plt.axis([-2,2,-2,2])\n",
    "        self.scat = plt.scatter(np.array(self.animation_position[0])[:,0],np.array(self.animation_position[0])[:,1])\n",
    "        ani = animation.FuncAnimation(self.fig, self.update_plot, frames= xrange(len(self.animation_position)),interval=100)\n",
    "        plt.show()"
   ]
  },
  {
   "cell_type": "code",
   "execution_count": 5,
   "metadata": {},
   "outputs": [],
   "source": [
    ""
   ]
  },
  {
   "cell_type": "code",
   "execution_count": 7,
   "metadata": {},
   "outputs": [],
   "source": [
    ""
   ]
  },
  {
   "cell_type": "code",
   "execution_count": 24,
   "metadata": {},
   "outputs": [],
   "source": [
    "particle_count = 5\n",
    "inertia = 0.79\n",
    "cognitive = 1.49445\n",
    "social = 1.49445\n",
    "time_unit = 1\n",
    "alpha = 0.2\n",
    "\n",
    "def random_position_generator():\n",
    "    return  np.random.uniform(-2,2,2)\n",
    "\n",
    "def random_velocity_generator():\n",
    "    return np.random.uniform(-0.02,0.02,2)\n",
    "\n",
    "\n",
    "def objective_function(position):\n",
    "    return np.sqrt(np.mean(position**2))\n",
    "\n",
    "MySwarm = Swarm(particle_count,inertia,cognitive,social,random_position_generator,random_velocity_generator,objective_function,alpha)\n",
    "\n",
    "for i in range(100):\n",
    "\tMySwarm.epoch(time_unit)\n",
    "\n",
    "MySwarm.finish()"
   ]
  },
  {
   "cell_type": "code",
   "execution_count": null,
   "metadata": {},
   "outputs": [],
   "source": []
  }
 ],
 "metadata": {
  "kernelspec": {
   "display_name": "Python 2",
   "language": "python",
   "name": "python2"
  },
  "language_info": {
   "codemirror_mode": {
    "name": "ipython",
    "version": 2
   },
   "file_extension": ".py",
   "mimetype": "text/x-python",
   "name": "python",
   "nbconvert_exporter": "python",
   "pygments_lexer": "ipython2",
   "version": "2.7.6"
  }
 },
 "nbformat": 4,
 "nbformat_minor": 0
}
